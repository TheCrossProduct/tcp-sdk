{
 "cells": [
  {
   "cell_type": "markdown",
   "metadata": {},
   "source": [
    "# 0 - Install and import tcp-sdk"
   ]
  },
  {
   "cell_type": "code",
   "execution_count": null,
   "metadata": {},
   "outputs": [],
   "source": [
    "pip install tcp-sdk --upgrade"
   ]
  },
  {
   "cell_type": "code",
   "execution_count": null,
   "metadata": {},
   "outputs": [],
   "source": [
    "import tcp"
   ]
  },
  {
   "cell_type": "code",
   "execution_count": null,
   "metadata": {},
   "outputs": [],
   "source": [
    "# Useful lib to display responses\n",
    "import os\n",
    "import pprint\n",
    "pp=pprint.PrettyPrinter(indent=4)"
   ]
  },
  {
   "cell_type": "markdown",
   "metadata": {},
   "source": [
    "# 1 - Login"
   ]
  },
  {
   "cell_type": "code",
   "execution_count": null,
   "metadata": {},
   "outputs": [],
   "source": [
    "email=\"\"\n",
    "password = \"\""
   ]
  },
  {
   "cell_type": "code",
   "execution_count": null,
   "metadata": {},
   "outputs": [],
   "source": [
    "tcp_user=tcp.client(usermail=email,passwd=password)"
   ]
  },
  {
   "cell_type": "code",
   "execution_count": null,
   "metadata": {},
   "outputs": [],
   "source": [
    "## Logout \n",
    "# tcp_user.query().auth.logout.get()"
   ]
  },
  {
   "cell_type": "markdown",
   "metadata": {},
   "source": [
    "# 2 - First example : Run Rail Modeling application"
   ]
  },
  {
   "cell_type": "markdown",
   "metadata": {},
   "source": [
    "#### Rail Modeling Inputs :"
   ]
  },
  {
   "cell_type": "code",
   "execution_count": null,
   "metadata": {},
   "outputs": [],
   "source": [
    "# Modify with your values\n",
    "#domain=\"railway\" # TCP domain name\n",
    "#app=\"rail_modeling\" # TCP app name\n",
    "\n",
    "my_pointclouds=[\"Demo/01_Sources/Cloud1.laz\"] # file path in your TCP storage (array of string).\n",
    "my_trajectories=[\"Demo/01_Sources/track_1.dxf\"] # file path in your TCP storage (array of string).\n",
    "my_output_repo=\"Demo/\"  # output repo path in your TCP storage (string)"
   ]
  },
  {
   "cell_type": "code",
   "execution_count": null,
   "metadata": {},
   "outputs": [],
   "source": [
    "#Body to provide as input\n",
    "body={\n",
    "    \"inputs\":{\n",
    "        \"pcs\":my_pointclouds,\n",
    "        \"trj\":my_trajectories\n",
    "    },\n",
    "    \"output-prefix\": my_output_repo\n",
    "}   "
   ]
  },
  {
   "cell_type": "markdown",
   "metadata": {},
   "source": [
    "#### Launch Rail Modeling :"
   ]
  },
  {
   "cell_type": "code",
   "execution_count": null,
   "metadata": {},
   "outputs": [],
   "source": [
    "# !! WARNING : Evaluate this cell will launch a new run !!\n",
    "\n",
    "try:\n",
    "    resp= tcp_user.query().app.railway.rail_modeling.run.post (body)\n",
    "    print(resp)\n",
    "except tcp.exceptions.HttpClientError as err:\n",
    "    print(err.content)"
   ]
  },
  {
   "cell_type": "markdown",
   "metadata": {},
   "source": [
    "#### Get my results :"
   ]
  },
  {
   "cell_type": "code",
   "execution_count": null,
   "metadata": {
    "scrolled": true
   },
   "outputs": [],
   "source": [
    "id_process = resp['id'] # get your process id in the request response\n",
    "pp.pprint(tcp_user.query().app.process(id_process).get()) # Show the status of your process"
   ]
  },
  {
   "cell_type": "markdown",
   "metadata": {},
   "source": [
    "# 3 - Add files in your TCP storage"
   ]
  },
  {
   "cell_type": "code",
   "execution_count": null,
   "metadata": {},
   "outputs": [],
   "source": [
    "local=r\"C:\\Users\\just_\\Desktop\\Clients\\SNCF\\SNCF_OpenData\\Gares\\01_Sources\\track_1.dxf\" # My local path (file or repository/)\n",
    "target=\"Demo/01_Sources/track_1.dxf\" #Definition of target location in your TCP storage repository"
   ]
  },
  {
   "cell_type": "code",
   "execution_count": null,
   "metadata": {
    "scrolled": true
   },
   "outputs": [],
   "source": [
    "tcp_user.upload(local,target)"
   ]
  },
  {
   "cell_type": "markdown",
   "metadata": {},
   "source": [
    "#### list your files :"
   ]
  },
  {
   "cell_type": "code",
   "execution_count": null,
   "metadata": {},
   "outputs": [],
   "source": [
    "tcp_user.query().data.get()"
   ]
  },
  {
   "cell_type": "markdown",
   "metadata": {},
   "source": [
    "# 4 - Run TCP application : general case"
   ]
  },
  {
   "cell_type": "markdown",
   "metadata": {},
   "source": [
    "Here is the generic syntax for launching any application:"
   ]
  },
  {
   "cell_type": "code",
   "execution_count": null,
   "metadata": {},
   "outputs": [],
   "source": [
    "##query().app.<string:domain>.<string:app>.run"
   ]
  },
  {
   "cell_type": "markdown",
   "metadata": {},
   "source": [
    "This request provide the list of available apps for each domain:"
   ]
  },
  {
   "cell_type": "code",
   "execution_count": null,
   "metadata": {},
   "outputs": [],
   "source": [
    "pp.pprint(tcp_user.query().app.get())"
   ]
  },
  {
   "cell_type": "markdown",
   "metadata": {},
   "source": [
    "And this request provides all information for one specific app"
   ]
  },
  {
   "cell_type": "code",
   "execution_count": null,
   "metadata": {},
   "outputs": [],
   "source": [
    "print(tcp_user.query().app.tcp_tools.classify_ground.get())"
   ]
  },
  {
   "cell_type": "markdown",
   "metadata": {},
   "source": [
    "# 5 - Use help method"
   ]
  },
  {
   "cell_type": "markdown",
   "metadata": {},
   "source": [
    "### to list all available endpoints"
   ]
  },
  {
   "cell_type": "code",
   "execution_count": null,
   "metadata": {},
   "outputs": [],
   "source": [
    "tcp_user.help()"
   ]
  },
  {
   "cell_type": "markdown",
   "metadata": {},
   "source": [
    "### To get details on one endpoint"
   ]
  },
  {
   "cell_type": "code",
   "execution_count": null,
   "metadata": {},
   "outputs": [],
   "source": [
    "tcp_user.query().app.process.help()"
   ]
  }
 ],
 "metadata": {
  "kernelspec": {
   "display_name": "Python 3 (ipykernel)",
   "language": "python",
   "name": "python3"
  },
  "language_info": {
   "codemirror_mode": {
    "name": "ipython",
    "version": 3
   },
   "file_extension": ".py",
   "mimetype": "text/x-python",
   "name": "python",
   "nbconvert_exporter": "python",
   "pygments_lexer": "ipython3",
   "version": "3.11.0"
  }
 },
 "nbformat": 4,
 "nbformat_minor": 4
}

