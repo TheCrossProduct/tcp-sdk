{
 "cells": [
  {
   "cell_type": "markdown",
   "metadata": {},
   "source": [
    "# 0 - Requirements"
   ]
  },
  {
   "cell_type": "code",
   "execution_count": null,
   "metadata": {
    "_cell_guid": "b1076dfc-b9ad-4769-8c92-a6c4dae69d19",
    "_uuid": "8f2839f25d086af736a60e9eeb907d3b93b6e0e5"
   },
   "outputs": [],
   "source": [
    "import requests\n",
    "import json\n",
    "import os\n",
    "from requests.auth import HTTPBasicAuth\n",
    "from tcp import client\n",
    "import tcp"
   ]
  },
  {
   "cell_type": "markdown",
   "metadata": {},
   "source": [
    "### Host Definition"
   ]
  },
  {
   "cell_type": "code",
   "execution_count": null,
   "metadata": {},
   "outputs": [],
   "source": [
    "host=\"https://unstable.thecrossproduct.xyz/v1\""
   ]
  },
  {
   "cell_type": "markdown",
   "metadata": {},
   "source": [
    "### Connection information"
   ]
  },
  {
   "cell_type": "code",
   "execution_count": null,
   "metadata": {},
   "outputs": [],
   "source": [
    "email=\"\"\n",
    "password = \"\""
   ]
  },
  {
   "cell_type": "markdown",
   "metadata": {},
   "source": [
    "# 1 - Authentification"
   ]
  },
  {
   "cell_type": "markdown",
   "metadata": {},
   "source": [
    "## a. User Login"
   ]
  },
  {
   "cell_type": "markdown",
   "metadata": {},
   "source": [
    "User login is done by client object instanciation:"
   ]
  },
  {
   "cell_type": "code",
   "execution_count": null,
   "metadata": {},
   "outputs": [],
   "source": [
    "api=client(host=host,usermail=email,passwd=password)"
   ]
  },
  {
   "cell_type": "markdown",
   "metadata": {},
   "source": [
    "You can now retrieve your token as follows:"
   ]
  },
  {
   "cell_type": "code",
   "execution_count": null,
   "metadata": {},
   "outputs": [],
   "source": [
    "token=api.token\n",
    "print(token)"
   ]
  },
  {
   "cell_type": "markdown",
   "metadata": {},
   "source": [
    "TIPS: Once you retrieved your token, you can add the token to the env variable \"TCP_API_TOKEN\". \n",
    "After that, you won't need to provide email and password to create a connection"
   ]
  },
  {
   "cell_type": "markdown",
   "metadata": {
    "execution": {
     "iopub.execute_input": "2023-04-19T08:59:28.593800Z",
     "iopub.status.busy": "2023-04-19T08:59:28.593394Z",
     "iopub.status.idle": "2023-04-19T08:59:28.601816Z",
     "shell.execute_reply": "2023-04-19T08:59:28.600514Z",
     "shell.execute_reply.started": "2023-04-19T08:59:28.593767Z"
    }
   },
   "source": [
    "## b. Get user's informations"
   ]
  },
  {
   "cell_type": "markdown",
   "metadata": {},
   "source": [
    "This endpoints provide user informations such as id, mail, creation date, associated groups..."
   ]
  },
  {
   "cell_type": "code",
   "execution_count": null,
   "metadata": {},
   "outputs": [],
   "source": [
    "user_info=api.query().auth.get()\n",
    "print(user_info)"
   ]
  },
  {
   "cell_type": "markdown",
   "metadata": {
    "execution": {
     "iopub.execute_input": "2023-04-19T09:03:52.421670Z",
     "iopub.status.busy": "2023-04-19T09:03:52.421209Z",
     "iopub.status.idle": "2023-04-19T09:03:52.429383Z",
     "shell.execute_reply": "2023-04-19T09:03:52.428183Z",
     "shell.execute_reply.started": "2023-04-19T09:03:52.421628Z"
    }
   },
   "source": [
    "## c. Get token's informations"
   ]
  },
  {
   "cell_type": "markdown",
   "metadata": {},
   "source": [
    "This endpoint verifies the validity of your token and provides some information about it, including token id, user id, expiration date, eventual activation limits, number of uses, scope authorized ..."
   ]
  },
  {
   "cell_type": "code",
   "execution_count": null,
   "metadata": {},
   "outputs": [],
   "source": [
    "print(api.query().auth.validate_auth_token.get())\n"
   ]
  },
  {
   "cell_type": "markdown",
   "metadata": {},
   "source": [
    "## d. User logout"
   ]
  },
  {
   "cell_type": "code",
   "execution_count": null,
   "metadata": {},
   "outputs": [],
   "source": [
    "api.query().auth.logout.get()"
   ]
  },
  {
   "cell_type": "markdown",
   "metadata": {},
   "source": [
    "# 2 - Manage your licences"
   ]
  },
  {
   "cell_type": "markdown",
   "metadata": {},
   "source": [
    "## a. Get licence information"
   ]
  },
  {
   "cell_type": "markdown",
   "metadata": {},
   "source": [
    "This endpoints provides a list of licenses associated with your account."
   ]
  },
  {
   "cell_type": "code",
   "execution_count": null,
   "metadata": {},
   "outputs": [],
   "source": [
    "print(api.query().auth.validate_auth_token.get())"
   ]
  },
  {
   "cell_type": "markdown",
   "metadata": {},
   "source": [
    "# 3 - Manage your data"
   ]
  },
  {
   "cell_type": "markdown",
   "metadata": {},
   "source": [
    "This section, allows you to check your data, upload new data from your local repository to the S3 storage or, on the contrary, download data from S3 storage to your local repository.\n",
    "\n",
    "In order to make it user friendly, we created the functions upload() and download().  "
   ]
  },
  {
   "cell_type": "markdown",
   "metadata": {},
   "source": [
    "## a. Upload Data"
   ]
  },
  {
   "cell_type": "code",
   "execution_count": null,
   "metadata": {},
   "outputs": [],
   "source": [
    "# Arguments definition\n",
    "s3_target_uri=\"test_upload\"\n",
    "local_file_path=\"\"\n",
    "file_size=str(os.path.getsize(local_file_path))"
   ]
  },
  {
   "cell_type": "code",
   "execution_count": null,
   "metadata": {},
   "outputs": [],
   "source": [
    "#returns True if successfull\n",
    "print(api.upload(file_path,s3_target_uri))"
   ]
  },
  {
   "cell_type": "markdown",
   "metadata": {},
   "source": [
    "## b. Download data"
   ]
  },
  {
   "cell_type": "code",
   "execution_count": null,
   "metadata": {},
   "outputs": [],
   "source": [
    "# Arguments definition\n",
    "target_local_path=\"\""
   ]
  },
  {
   "cell_type": "code",
   "execution_count": null,
   "metadata": {},
   "outputs": [],
   "source": [
    "#returns True if successfull\n",
    "print(api.download(s3_target_uri,target_local_path))"
   ]
  },
  {
   "cell_type": "markdown",
   "metadata": {},
   "source": [
    "## c. List your TCP data"
   ]
  },
  {
   "cell_type": "code",
   "execution_count": null,
   "metadata": {},
   "outputs": [],
   "source": [
    "print(api.query().data.get())"
   ]
  },
  {
   "cell_type": "markdown",
   "metadata": {
    "execution": {
     "iopub.execute_input": "2023-04-19T09:11:13.914376Z",
     "iopub.status.busy": "2023-04-19T09:11:13.913922Z",
     "iopub.status.idle": "2023-04-19T09:11:13.921593Z",
     "shell.execute_reply": "2023-04-19T09:11:13.920658Z",
     "shell.execute_reply.started": "2023-04-19T09:11:13.914338Z"
    }
   },
   "source": [
    "## List TCP Solutions"
   ]
  },
  {
   "cell_type": "code",
   "execution_count": null,
   "metadata": {},
   "outputs": [],
   "source": [
    "print(api.query().app.get())"
   ]
  },
  {
   "cell_type": "markdown",
   "metadata": {},
   "source": [
    "## Specific informations for Domain"
   ]
  },
  {
   "cell_type": "code",
   "execution_count": null,
   "metadata": {},
   "outputs": [],
   "source": [
    "print(api.query().app.info.get(Domain=\"railway\",App=\"classification\").decode('utf8'))"
   ]
  },
  {
   "cell_type": "markdown",
   "metadata": {},
   "source": [
    "### List Available remotes"
   ]
  },
  {
   "cell_type": "code",
   "execution_count": null,
   "metadata": {},
   "outputs": [],
   "source": [
    "print(api.query().app.remote.scw.get())"
   ]
  },
  {
   "cell_type": "markdown",
   "metadata": {},
   "source": [
    "## Run TCP Solution"
   ]
  },
  {
   "cell_type": "code",
   "execution_count": null,
   "metadata": {},
   "outputs": [],
   "source": [
    "#définition des inputs\n",
    "clouds=[\"demo/cloud1.laz\"]\n",
    "trj=[\"demo/trajectory.dxf\"]\n",
    "output=\"demo/classif\""
   ]
  },
  {
   "cell_type": "code",
   "execution_count": null,
   "metadata": {},
   "outputs": [],
   "source": [
    "\n",
    "print(api.query().app.run.post({\"inputs\":{\"pcs\":clouds,\"traj\":trj},\"output-prefix\": output, \"pool\":[\"scw:fr-par-1:PRO2-M\"]},Domain=\"railway\",App=\"classification\"))"
   ]
  },
  {
   "cell_type": "code",
   "execution_count": null,
   "metadata": {
    "execution": {
     "iopub.execute_input": "2023-04-19T13:48:42.071136Z",
     "iopub.status.busy": "2023-04-19T13:48:42.070649Z",
     "iopub.status.idle": "2023-04-19T13:48:42.911397Z",
     "shell.execute_reply": "2023-04-19T13:48:42.909966Z",
     "shell.execute_reply.started": "2023-04-19T13:48:42.071094Z"
    }
   },
   "outputs": [],
   "source": [
    "url = host+\"v1/app/run?Domain=Railway&App=Classification\"\n",
    "payload = json.dumps({\"inputs\":{\"pcs\":clouds,\"traj\":trj},\"output-prefix\": output, \"pool\":[\"scw:fr-par-1:PRO2-M\"] })\n",
    "headers = {'Content-Type': 'application/json','x-access-token': token}\n",
    "\n",
    "mod = requests.request(\"POST\", url, headers=headers, data=payload)\n",
    "\n",
    "if mod.status_code==200:\n",
    "    print(mod.text)\n",
    "else:\n",
    "    print(mod)"
   ]
  },
  {
   "cell_type": "markdown",
   "metadata": {},
   "source": [
    "## Check Process status & Download results"
   ]
  },
  {
   "cell_type": "code",
   "execution_count": null,
   "metadata": {
    "execution": {
     "iopub.execute_input": "2023-04-19T13:51:26.383949Z",
     "iopub.status.busy": "2023-04-19T13:51:26.383462Z",
     "iopub.status.idle": "2023-04-19T13:51:27.503627Z",
     "shell.execute_reply": "2023-04-19T13:51:27.501879Z",
     "shell.execute_reply.started": "2023-04-19T13:51:26.383874Z"
    },
    "scrolled": true
   },
   "outputs": [],
   "source": [
    "id_process = mod.json()['id']\n",
    "\n",
    "url = host+\"/v1/app/status?Process={}\".format(id_process)\n",
    "\n",
    "headers = {\n",
    "  'x-access-token': token\n",
    "}\n",
    "\n",
    "download_result = requests.request(\"GET\", url, headers=headers)\n",
    "\n",
    "print(download_result.text)\n",
    "#le paramètre \"output\" contiendra un url vers le résultat à télécharger lorsque le traitement sera terminé"
   ]
  },
  {
   "cell_type": "markdown",
   "metadata": {},
   "source": [
    "## List Processes"
   ]
  },
  {
   "cell_type": "code",
   "execution_count": null,
   "metadata": {},
   "outputs": [],
   "source": [
    "print(api.query().app.list.Process.get())"
   ]
  }
 ],
 "metadata": {
  "kernelspec": {
   "display_name": "Python 3 (ipykernel)",
   "language": "python",
   "name": "python3"
  },
  "language_info": {
   "codemirror_mode": {
    "name": "ipython",
    "version": 3
   },
   "file_extension": ".py",
   "mimetype": "text/x-python",
   "name": "python",
   "nbconvert_exporter": "python",
   "pygments_lexer": "ipython3",
   "version": "3.9.9"
  }
 },
 "nbformat": 4,
 "nbformat_minor": 4
}
