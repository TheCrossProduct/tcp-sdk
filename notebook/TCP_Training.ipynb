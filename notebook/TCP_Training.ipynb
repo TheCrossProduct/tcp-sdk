{
 "cells": [
  {
   "cell_type": "code",
   "execution_count": null,
   "metadata": {
    "_cell_guid": "b1076dfc-b9ad-4769-8c92-a6c4dae69d19",
    "_uuid": "8f2839f25d086af736a60e9eeb907d3b93b6e0e5"
   },
   "outputs": [],
   "source": [
    "import requests\n",
    "import json\n",
    "import os\n",
    "from requests.auth import HTTPBasicAuth\n",
    "from tcpSDK import client\n",
    "import tcpSDK"
   ]
  },
  {
   "cell_type": "markdown",
   "metadata": {},
   "source": [
    "### Host Definition"
   ]
  },
  {
   "cell_type": "code",
   "execution_count": null,
   "metadata": {},
   "outputs": [],
   "source": [
    "host=\"https://unstable.thecrossproduct.xyz/v1\""
   ]
  },
  {
   "cell_type": "markdown",
   "metadata": {},
   "source": [
    "### Connection information"
   ]
  },
  {
   "cell_type": "code",
   "execution_count": null,
   "metadata": {},
   "outputs": [],
   "source": [
    "email=\"\"\n",
    "password = \"\""
   ]
  },
  {
   "cell_type": "markdown",
   "metadata": {},
   "source": [
    "### Authentification"
   ]
  },
  {
   "cell_type": "code",
   "execution_count": null,
   "metadata": {},
   "outputs": [],
   "source": [
    "api=client(host=host,usermail=email,passwd=password)"
   ]
  },
  {
   "cell_type": "markdown",
   "metadata": {},
   "source": [
    "### Token recovery"
   ]
  },
  {
   "cell_type": "code",
   "execution_count": null,
   "metadata": {},
   "outputs": [],
   "source": [
    "token=api.token\n",
    "print(token)\n",
    "#you can add the token to the env variable \"TCP_API_TOKEN\". \n",
    "#After that, you won't need to provide email and password to create a connection"
   ]
  },
  {
   "cell_type": "markdown",
   "metadata": {
    "execution": {
     "iopub.execute_input": "2023-04-19T08:59:28.593800Z",
     "iopub.status.busy": "2023-04-19T08:59:28.593394Z",
     "iopub.status.idle": "2023-04-19T08:59:28.601816Z",
     "shell.execute_reply": "2023-04-19T08:59:28.600514Z",
     "shell.execute_reply.started": "2023-04-19T08:59:28.593767Z"
    }
   },
   "source": [
    "### Get Users Information"
   ]
  },
  {
   "cell_type": "code",
   "execution_count": null,
   "metadata": {},
   "outputs": [],
   "source": [
    "user_info=api.query().auth.get()\n",
    "print(user_info)"
   ]
  },
  {
   "cell_type": "markdown",
   "metadata": {
    "execution": {
     "iopub.execute_input": "2023-04-19T09:03:52.421670Z",
     "iopub.status.busy": "2023-04-19T09:03:52.421209Z",
     "iopub.status.idle": "2023-04-19T09:03:52.429383Z",
     "shell.execute_reply": "2023-04-19T09:03:52.428183Z",
     "shell.execute_reply.started": "2023-04-19T09:03:52.421628Z"
    }
   },
   "source": [
    "## Token Information"
   ]
  },
  {
   "cell_type": "code",
   "execution_count": null,
   "metadata": {},
   "outputs": [],
   "source": [
    "print(api.query().auth.validate_auth_token.get())\n"
   ]
  },
  {
   "cell_type": "markdown",
   "metadata": {
    "execution": {
     "iopub.execute_input": "2023-04-19T09:11:13.914376Z",
     "iopub.status.busy": "2023-04-19T09:11:13.913922Z",
     "iopub.status.idle": "2023-04-19T09:11:13.921593Z",
     "shell.execute_reply": "2023-04-19T09:11:13.920658Z",
     "shell.execute_reply.started": "2023-04-19T09:11:13.914338Z"
    }
   },
   "source": [
    "## List TCP Solutions"
   ]
  },
  {
   "cell_type": "code",
   "execution_count": null,
   "metadata": {},
   "outputs": [],
   "source": [
    "print(api.query().app.get())"
   ]
  },
  {
   "cell_type": "markdown",
   "metadata": {},
   "source": [
    "## Specific informations for Domain"
   ]
  },
  {
   "cell_type": "code",
   "execution_count": null,
   "metadata": {},
   "outputs": [],
   "source": [
    "print(api.query().app.info.get(Domain=\"railway\",App=\"classification\").decode('utf8'))"
   ]
  },
  {
   "cell_type": "markdown",
   "metadata": {},
   "source": [
    "### List Available remotes"
   ]
  },
  {
   "cell_type": "code",
   "execution_count": null,
   "metadata": {},
   "outputs": [],
   "source": [
    "print(api.query().app.remote.scw.get())"
   ]
  },
  {
   "cell_type": "markdown",
   "metadata": {},
   "source": [
    "## Upload Data"
   ]
  },
  {
   "cell_type": "code",
   "execution_count": null,
   "metadata": {},
   "outputs": [],
   "source": [
    "#Définition des paramètres\n",
    "uri_cible=\"test_upload\"\n",
    "file_path=\"/mnt/HDD/tcp_data/0_tests/test_cloud1/01_Sources/cloud1.laz\"\n",
    "file_size=str(os.path.getsize(file_path))"
   ]
  },
  {
   "cell_type": "code",
   "execution_count": null,
   "metadata": {},
   "outputs": [],
   "source": [
    "api.upload(file_path,uri_cible)"
   ]
  },
  {
   "cell_type": "markdown",
   "metadata": {},
   "source": [
    "## TCP List Data"
   ]
  },
  {
   "cell_type": "code",
   "execution_count": null,
   "metadata": {},
   "outputs": [],
   "source": [
    "print(api.query().data.get())"
   ]
  },
  {
   "cell_type": "markdown",
   "metadata": {},
   "source": [
    "## Run TCP Solution"
   ]
  },
  {
   "cell_type": "code",
   "execution_count": null,
   "metadata": {},
   "outputs": [],
   "source": [
    "#définition des inputs\n",
    "clouds=[\"demo/cloud1.laz\"]\n",
    "trj=[\"demo/trajectory.dxf\"]\n",
    "output=\"demo/classif\""
   ]
  },
  {
   "cell_type": "code",
   "execution_count": null,
   "metadata": {},
   "outputs": [],
   "source": [
    "\n",
    "print(api.query().app.run.post({\"inputs\":{\"pcs\":clouds,\"traj\":trj},\"output-prefix\": output, \"pool\":[\"scw:fr-par-1:PRO2-M\"]},Domain=\"railway\",App=\"classification\"))"
   ]
  },
  {
   "cell_type": "code",
   "execution_count": null,
   "metadata": {
    "execution": {
     "iopub.execute_input": "2023-04-19T13:48:42.071136Z",
     "iopub.status.busy": "2023-04-19T13:48:42.070649Z",
     "iopub.status.idle": "2023-04-19T13:48:42.911397Z",
     "shell.execute_reply": "2023-04-19T13:48:42.909966Z",
     "shell.execute_reply.started": "2023-04-19T13:48:42.071094Z"
    }
   },
   "outputs": [],
   "source": [
    "url = host+\"v1/app/run?Domain=Railway&App=Classification\"\n",
    "payload = json.dumps({\"inputs\":{\"pcs\":clouds,\"traj\":trj},\"output-prefix\": output, \"pool\":[\"scw:fr-par-1:PRO2-M\"] })\n",
    "headers = {'Content-Type': 'application/json','x-access-token': token}\n",
    "\n",
    "mod = requests.request(\"POST\", url, headers=headers, data=payload)\n",
    "\n",
    "if mod.status_code==200:\n",
    "    print(mod.text)\n",
    "else:\n",
    "    print(mod)"
   ]
  },
  {
   "cell_type": "markdown",
   "metadata": {},
   "source": [
    "## Check Process status & Download results"
   ]
  },
  {
   "cell_type": "code",
   "execution_count": null,
   "metadata": {
    "execution": {
     "iopub.execute_input": "2023-04-19T13:51:26.383949Z",
     "iopub.status.busy": "2023-04-19T13:51:26.383462Z",
     "iopub.status.idle": "2023-04-19T13:51:27.503627Z",
     "shell.execute_reply": "2023-04-19T13:51:27.501879Z",
     "shell.execute_reply.started": "2023-04-19T13:51:26.383874Z"
    },
    "scrolled": true
   },
   "outputs": [],
   "source": [
    "id_process = mod.json()['id']\n",
    "\n",
    "url = host+\"/v1/app/status?Process={}\".format(id_process)\n",
    "\n",
    "headers = {\n",
    "  'x-access-token': token\n",
    "}\n",
    "\n",
    "download_result = requests.request(\"GET\", url, headers=headers)\n",
    "\n",
    "print(download_result.text)\n",
    "#le paramètre \"output\" contiendra un url vers le résultat à télécharger lorsque le traitement sera terminé"
   ]
  },
  {
   "cell_type": "markdown",
   "metadata": {},
   "source": [
    "## List Processes"
   ]
  },
  {
   "cell_type": "code",
   "execution_count": null,
   "metadata": {},
   "outputs": [],
   "source": [
    "print(api.query().app.list.Process.get())"
   ]
  }
 ],
 "metadata": {
  "kernelspec": {
   "display_name": "Python 3 (ipykernel)",
   "language": "python",
   "name": "python3"
  },
  "language_info": {
   "codemirror_mode": {
    "name": "ipython",
    "version": 3
   },
   "file_extension": ".py",
   "mimetype": "text/x-python",
   "name": "python",
   "nbconvert_exporter": "python",
   "pygments_lexer": "ipython3",
   "version": "3.9.9"
  }
 },
 "nbformat": 4,
 "nbformat_minor": 4
}
