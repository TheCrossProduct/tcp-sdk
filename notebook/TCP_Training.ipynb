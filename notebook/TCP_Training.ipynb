{
 "cells": [
  {
   "cell_type": "markdown",
   "metadata": {},
   "source": [
    "# 0 - Before starting"
   ]
  },
  {
   "cell_type": "code",
   "execution_count": null,
   "metadata": {},
   "outputs": [],
   "source": [
    "pip install tcp-sdk"
   ]
  },
  {
   "cell_type": "markdown",
   "metadata": {},
   "source": [
    "TCP SDK allows you to :\n",
    "- manage safe connections to the API\n",
    "- easily send http requests to the API thanks to the method query()"
   ]
  },
  {
   "cell_type": "markdown",
   "metadata": {},
   "source": [
    "## a. Requirements"
   ]
  },
  {
   "cell_type": "code",
   "execution_count": null,
   "metadata": {
    "_cell_guid": "b1076dfc-b9ad-4769-8c92-a6c4dae69d19",
    "_uuid": "8f2839f25d086af736a60e9eeb907d3b93b6e0e5"
   },
   "outputs": [],
   "source": [
    "import os\n",
    "from tcp import client\n",
    "import tcp\n",
    "import pprint\n",
    "pp=pprint.PrettyPrinter(indent=4)"
   ]
  },
  {
   "cell_type": "markdown",
   "metadata": {},
   "source": [
    "If you are using Google Collab please execute the cell below as well "
   ]
  },
  {
   "cell_type": "code",
   "execution_count": null,
   "metadata": {},
   "outputs": [],
   "source": [
    "#from google.colab import files"
   ]
  },
  {
   "cell_type": "markdown",
   "metadata": {},
   "source": [
    "## b. Connection informations"
   ]
  },
  {
   "cell_type": "code",
   "execution_count": null,
   "metadata": {},
   "outputs": [],
   "source": [
    "email=\"\"\n",
    "password = \"\""
   ]
  },
  {
   "cell_type": "markdown",
   "metadata": {},
   "source": [
    "# 1 - Authentication"
   ]
  },
  {
   "cell_type": "markdown",
   "metadata": {},
   "source": [
    "## a. User Login"
   ]
  },
  {
   "cell_type": "markdown",
   "metadata": {},
   "source": [
    "User login is done by client object instanciation:"
   ]
  },
  {
   "cell_type": "code",
   "execution_count": null,
   "metadata": {},
   "outputs": [],
   "source": [
    "api=client(usermail=email,passwd=password)"
   ]
  },
  {
   "cell_type": "markdown",
   "metadata": {},
   "source": [
    "You can now retrieve your token as follows:"
   ]
  },
  {
   "cell_type": "code",
   "execution_count": null,
   "metadata": {},
   "outputs": [],
   "source": [
    "token=api.token\n",
    "print(token)"
   ]
  },
  {
   "cell_type": "markdown",
   "metadata": {},
   "source": [
    "TIPS: Once you retrieved your token, you can add the token to the env variable \"TCP_API_TOKEN\". \n",
    "After that, you won't need to provide email and password to create a connection.\n",
    "\n",
    "A token is only valid for a given period so you will need to reconnect from time to time"
   ]
  },
  {
   "cell_type": "markdown",
   "metadata": {},
   "source": [
    "### Request structure with TCP-SDK:"
   ]
  },
  {
   "cell_type": "markdown",
   "metadata": {},
   "source": [
    "Now that you are authenticated, request are generated threw the query method as follow: \n",
    "\n",
    "api.query().endpoint1.endpoint2.httpMethod(body_data,url_parameters)\n",
    "\n",
    "ex:\n",
    "\n",
    "-api.query().auth.get()\n",
    "\n",
    "-api.query().app.run.post({\"inputs\":{\"pcs\":clouds,\"trj\":trj},\"output-prefix\": output, \"pool\":[\"scw:fr-par-1:PRO2-M\"]},Domain=\"railway\",App=\"rail-modeling\")"
   ]
  },
  {
   "cell_type": "markdown",
   "metadata": {},
   "source": [
    "### TIPS - Finding endpoints - help method"
   ]
  },
  {
   "cell_type": "markdown",
   "metadata": {},
   "source": [
    "TCP sdk provides a help method which list all endpoints available and specific functions.\n",
    "\n",
    "It can be called:"
   ]
  },
  {
   "cell_type": "markdown",
   "metadata": {},
   "source": [
    "#### - on the whole module:"
   ]
  },
  {
   "cell_type": "code",
   "execution_count": null,
   "metadata": {},
   "outputs": [],
   "source": [
    "api.help()"
   ]
  },
  {
   "cell_type": "markdown",
   "metadata": {},
   "source": [
    "#### - or on any endpoints"
   ]
  },
  {
   "cell_type": "code",
   "execution_count": null,
   "metadata": {},
   "outputs": [],
   "source": [
    "api.query().app.help()"
   ]
  },
  {
   "cell_type": "markdown",
   "metadata": {},
   "source": [
    "#### - another endpoint"
   ]
  },
  {
   "cell_type": "code",
   "execution_count": null,
   "metadata": {},
   "outputs": [],
   "source": [
    "api.query().app.run.help()"
   ]
  },
  {
   "cell_type": "markdown",
   "metadata": {},
   "source": [
    "____________________________________________________________________________________________________\n",
    "Now, let's go back to the \"auth\" section:"
   ]
  },
  {
   "cell_type": "markdown",
   "metadata": {
    "execution": {
     "iopub.execute_input": "2023-04-19T08:59:28.593800Z",
     "iopub.status.busy": "2023-04-19T08:59:28.593394Z",
     "iopub.status.idle": "2023-04-19T08:59:28.601816Z",
     "shell.execute_reply": "2023-04-19T08:59:28.600514Z",
     "shell.execute_reply.started": "2023-04-19T08:59:28.593767Z"
    }
   },
   "source": [
    "## b. Get user's informations"
   ]
  },
  {
   "cell_type": "markdown",
   "metadata": {},
   "source": [
    "This endpoints provide user informations such as id, mail, creation date, associated groups..."
   ]
  },
  {
   "cell_type": "code",
   "execution_count": null,
   "metadata": {},
   "outputs": [],
   "source": [
    "#Method=GET\n",
    "#Endpoints=auth/\n",
    "\n",
    "user_info=api.query().auth.get()\n",
    "pp.pprint(user_info)"
   ]
  },
  {
   "cell_type": "markdown",
   "metadata": {
    "execution": {
     "iopub.execute_input": "2023-04-19T09:03:52.421670Z",
     "iopub.status.busy": "2023-04-19T09:03:52.421209Z",
     "iopub.status.idle": "2023-04-19T09:03:52.429383Z",
     "shell.execute_reply": "2023-04-19T09:03:52.428183Z",
     "shell.execute_reply.started": "2023-04-19T09:03:52.421628Z"
    }
   },
   "source": [
    "## c. Get token's informations"
   ]
  },
  {
   "cell_type": "markdown",
   "metadata": {},
   "source": [
    "This endpoint verifies the validity of your token and provides some information about it, including token id, user id, expiration date, eventual activation limits, number of uses, scope authorized ..."
   ]
  },
  {
   "cell_type": "code",
   "execution_count": null,
   "metadata": {},
   "outputs": [],
   "source": [
    "#Method=GET\n",
    "#Endpoints=auth/validate_auth_token/\n",
    "\n",
    "pp.pprint(api.query().auth.validate_auth_token.get())\n"
   ]
  },
  {
   "cell_type": "markdown",
   "metadata": {},
   "source": [
    "## d. User logout"
   ]
  },
  {
   "cell_type": "code",
   "execution_count": null,
   "metadata": {},
   "outputs": [],
   "source": [
    "#Method=GET\n",
    "#Endpoints=auth/logout\n",
    "\n",
    "api.query().auth.logout.get()"
   ]
  },
  {
   "cell_type": "markdown",
   "metadata": {},
   "source": [
    "# 2 - Manage your licences"
   ]
  },
  {
   "cell_type": "markdown",
   "metadata": {},
   "source": [
    "## a. Get licence information"
   ]
  },
  {
   "cell_type": "markdown",
   "metadata": {},
   "source": [
    "This endpoints provides a list of licenses associated with your account."
   ]
  },
  {
   "cell_type": "code",
   "execution_count": null,
   "metadata": {},
   "outputs": [],
   "source": [
    "#Method=GET\n",
    "#Endpoints=lics/\n",
    "\n",
    "pp.pprint(api.query().lics.get())"
   ]
  },
  {
   "cell_type": "markdown",
   "metadata": {},
   "source": [
    "# 3 - Manage your data"
   ]
  },
  {
   "cell_type": "markdown",
   "metadata": {},
   "source": [
    "This section, allows you to check your data, upload new data from your local repository to the S3 storage or, on the contrary, download data from S3 storage to your local repository.\n",
    "\n",
    "In order to make it user friendly, we created the functions upload() and download(). \n",
    "\n",
    "Path in S3 repository are formulated from your personnal folder. It means that:\n",
    "path=file.txt points towards a file directly in your personnal folder\n",
    "path=folder/file.txt points towards a file in a folder in your personnal space.\n",
    "\n",
    "Addressing groups space is done through @:\n",
    "\n",
    "ex: GroupName@folder/file.txt\n",
    "\n",
    "Spaces and special characters are not allowed.\n"
   ]
  },
  {
   "cell_type": "markdown",
   "metadata": {},
   "source": [
    "## a. List your TCP data"
   ]
  },
  {
   "cell_type": "code",
   "execution_count": null,
   "metadata": {},
   "outputs": [],
   "source": [
    "#Method=GET\n",
    "#Endpoints=data/\n",
    "\n",
    "pp.pprint(api.query().data.get())"
   ]
  },
  {
   "cell_type": "markdown",
   "metadata": {},
   "source": [
    "## b. Upload Data"
   ]
  },
  {
   "cell_type": "markdown",
   "metadata": {},
   "source": [
    "##### Local file path definition:"
   ]
  },
  {
   "cell_type": "markdown",
   "metadata": {},
   "source": [
    "If you are using Google collab, please execute the cell below. It will upload your file from your local path to collab's drive"
   ]
  },
  {
   "cell_type": "code",
   "execution_count": null,
   "metadata": {},
   "outputs": [],
   "source": [
    "#uploaded = files.upload()\n",
    "#file_name=next(iter(uploaded))\n",
    "#local_file_path=os.path.join(\"/content\", file_name)"
   ]
  },
  {
   "cell_type": "markdown",
   "metadata": {},
   "source": [
    "If you are using Jupyter, please provide the path of your file below:"
   ]
  },
  {
   "cell_type": "code",
   "execution_count": null,
   "metadata": {},
   "outputs": [],
   "source": [
    "local_file_path=r\"\""
   ]
  },
  {
   "cell_type": "markdown",
   "metadata": {},
   "source": [
    "##### Upload in your s3 repository:"
   ]
  },
  {
   "cell_type": "code",
   "execution_count": null,
   "metadata": {},
   "outputs": [],
   "source": [
    "#Definition of target location in S3 repository\n",
    "s3_target_uri=\"test_upload\"\n",
    "\n",
    "api.upload(local_file_path,s3_target_uri)"
   ]
  },
  {
   "cell_type": "markdown",
   "metadata": {},
   "source": [
    "##### Upload in your s3 repository, in a folder:"
   ]
  },
  {
   "cell_type": "code",
   "execution_count": null,
   "metadata": {},
   "outputs": [],
   "source": [
    "#Definition of target location in S3 repository\n",
    "s3_target_uri=\"folder/test_upload\"\n",
    "\n",
    "api.upload(local_file_path,s3_target_uri)"
   ]
  },
  {
   "cell_type": "markdown",
   "metadata": {},
   "source": [
    "##### Upload in your s3 repository, in a group:"
   ]
  },
  {
   "cell_type": "code",
   "execution_count": null,
   "metadata": {},
   "outputs": [],
   "source": [
    "#Definition of target location in S3 repository\n",
    "s3_target_uri=\"DB_Engineering@folder/test_upload\"\n",
    "\n",
    "api.upload(local_file_path,s3_target_uri)"
   ]
  },
  {
   "cell_type": "markdown",
   "metadata": {},
   "source": [
    "## c. Download data"
   ]
  },
  {
   "cell_type": "code",
   "execution_count": null,
   "metadata": {},
   "outputs": [],
   "source": [
    "s3_file_path=\"test_upload\"\n",
    "\n",
    "# path in your computer. \n",
    "# For google collab, the path is the Drive path.The file will be downloaded in your \"Download\" folder\n",
    "target_local_path=r\"\""
   ]
  },
  {
   "cell_type": "code",
   "execution_count": null,
   "metadata": {},
   "outputs": [],
   "source": [
    "api.download(s3_file_path,target_local_path)"
   ]
  },
  {
   "cell_type": "markdown",
   "metadata": {},
   "source": [
    "If you are using google collab, the precedent command line downloaded the file in collab's drive repository. \n",
    "You need to execute the cell below to download the file from the drive to your machine"
   ]
  },
  {
   "cell_type": "code",
   "execution_count": null,
   "metadata": {},
   "outputs": [],
   "source": [
    "#files.download(target_local_path)"
   ]
  },
  {
   "cell_type": "markdown",
   "metadata": {},
   "source": [
    "## d. Delete files"
   ]
  },
  {
   "cell_type": "code",
   "execution_count": null,
   "metadata": {},
   "outputs": [],
   "source": [
    "file_path_to_delete=\"test_upload\"\n",
    "api.query().data.delete_file.post({\"uri\":file_path_to_delete})"
   ]
  },
  {
   "cell_type": "markdown",
   "metadata": {},
   "source": [
    "# 4 - TCP solutions"
   ]
  },
  {
   "cell_type": "markdown",
   "metadata": {
    "execution": {
     "iopub.execute_input": "2023-04-19T09:11:13.914376Z",
     "iopub.status.busy": "2023-04-19T09:11:13.913922Z",
     "iopub.status.idle": "2023-04-19T09:11:13.921593Z",
     "shell.execute_reply": "2023-04-19T09:11:13.920658Z",
     "shell.execute_reply.started": "2023-04-19T09:11:13.914338Z"
    }
   },
   "source": [
    "## a. List TCP Solutions"
   ]
  },
  {
   "cell_type": "markdown",
   "metadata": {},
   "source": [
    "This endpoints provides a list of products that are available to your account, sorted by domains."
   ]
  },
  {
   "cell_type": "code",
   "execution_count": null,
   "metadata": {},
   "outputs": [],
   "source": [
    "#Method=GET\n",
    "#Endpoints=app/\n",
    "\n",
    "print(api.query().app.get())"
   ]
  },
  {
   "cell_type": "markdown",
   "metadata": {},
   "source": [
    "\n",
    "## b. Specific informations for Domain"
   ]
  },
  {
   "cell_type": "markdown",
   "metadata": {},
   "source": [
    "This endpoint provides a detailed documentation on how to use the solution for a given application. It lists all the available endpoints and their corresponding functionalities. Additionally, it provides detailed information on the required JSON body for each endpoint. The fields in the JSON body are described with their name, type, and a brief description of their purpose. This documentation serves as a comprehensive guide for you to effectively use the solution."
   ]
  },
  {
   "cell_type": "code",
   "execution_count": null,
   "metadata": {},
   "outputs": [],
   "source": [
    "#Method=GET\n",
    "#Endpoints=app/info\n",
    "#Url argument= Domain=\"railway\"& App=\"rail-modeling\"\n",
    "\n",
    "print(api.query().app.info.get(Domain=\"railway\",App=\"rail-modeling\").decode('utf8'))"
   ]
  },
  {
   "cell_type": "markdown",
   "metadata": {},
   "source": [
    "## c. Run TCP application"
   ]
  },
  {
   "cell_type": "markdown",
   "metadata": {},
   "source": [
    "This endpoint is used to initiate a process, where a solution is executed with a given set of parameters.\n",
    "\n",
    "At least two parameters are required: \"inputs\" and \"output-prefix\". Those parameters must strictly adhere to the documentation provided by the endpoint GET /v1/app/info.\n",
    "\n",
    "Additionally, you can use the parameter \"pool\" to select a specific architecture on which to run the process. This parameter is a list of instances, that you have selected. The most suitable will be selected in this list. Refer to the endpoint GET /v1/app/remote. If the parameter \"pool\" is omitted, the run will be run on a small architecture by default.\n",
    "\n",
    "Upon successful initiation, an ID is returned to you. This ID will be used in subsequent requests to check the status of the process and retrieve the results."
   ]
  },
  {
   "cell_type": "code",
   "execution_count": null,
   "metadata": {},
   "outputs": [],
   "source": [
    "#inputs definition\n",
    "clouds=[\"DB_Engineering@demo/cloud1.laz\"]\n",
    "trj=[\"DB_Engineering@demo/voie1.dxf\"]\n",
    "output=\"demo/02_Vecto\""
   ]
  },
  {
   "cell_type": "code",
   "execution_count": null,
   "metadata": {},
   "outputs": [],
   "source": [
    "#Method=POST\n",
    "#Endpoints=app/info\n",
    "#Url argument= Domain=\"railway\"& App=\"rail-modeling\"\n",
    "#data body= {\"inputs\":{\"pcs\":clouds,\"traj\":trj},\"output-prefix\": output, \"pool\":[\"scw:fr-par-1:PRO2-M\"]}\n",
    "\n",
    "resp=api.query().app.run.post({\"inputs\":{\"pcs\":clouds,\"trj\":trj},\"output-prefix\": output, \"pool\":[\"scw:fr-par-1:PRO2-M\"]},Domain=\"railway\",App=\"rail-modeling\")\n",
    "print(resp)"
   ]
  },
  {
   "cell_type": "markdown",
   "metadata": {},
   "source": [
    "## d. Check process status & download results"
   ]
  },
  {
   "cell_type": "markdown",
   "metadata": {},
   "source": [
    "Use this endpoint to check the status of a process and retrieve its outputs once it has finished. The following fields are returned: process id, user id, application used, domain, dates of launch and termination, state of the process.\n",
    "\n",
    "The \"outputs\" field in the response is a dictionary that contains the files generated by the process. The keys in the dictionary represent the names of the files, and the corresponding values are URLs for download.\n",
    "\n",
    "The \"outputs\" field in the response is a dictionary that contains the files generated by the process. The keys in the dictionary represent the names of the files, and the corresponding values are URLs for download."
   ]
  },
  {
   "cell_type": "code",
   "execution_count": null,
   "metadata": {
    "scrolled": true
   },
   "outputs": [],
   "source": [
    "#Method=GET\n",
    "#Endpoints=app/status\n",
    "\n",
    "id_process = resp['id']\n",
    "\n",
    "pp.pprint(api.query().app.status.get(Process=id_process))"
   ]
  },
  {
   "cell_type": "markdown",
   "metadata": {},
   "source": [
    "\n",
    "## e. List Processes"
   ]
  },
  {
   "cell_type": "markdown",
   "metadata": {},
   "source": [
    "Use this endpoint to retrieve information about all the processes you currently have, including their status and output."
   ]
  },
  {
   "cell_type": "code",
   "execution_count": null,
   "metadata": {
    "scrolled": true
   },
   "outputs": [],
   "source": [
    "#Method=GET\n",
    "#Endpoints=app/list/Process\n",
    "\n",
    "pp.pprint(api.query().app.list.Process.get())"
   ]
  },
  {
   "cell_type": "markdown",
   "metadata": {},
   "source": [
    "Alternatively but not in this notebook, you could use, in a terminal, the method api.dashboard() to see a dynamic display \n",
    "of the current processes"
   ]
  },
  {
   "cell_type": "markdown",
   "metadata": {},
   "source": [
    "## f. List Available remotes"
   ]
  },
  {
   "cell_type": "markdown",
   "metadata": {},
   "source": [
    "The following endpoint provides a comprehensive list of all available Scaleway computing resources, including information such as the number of cores, size of random access memory (RAM), and hourly cost. In addition, if you have declared remotes, they will also appear in this list."
   ]
  },
  {
   "cell_type": "code",
   "execution_count": null,
   "metadata": {},
   "outputs": [],
   "source": [
    "#Method=GET\n",
    "#Endpoints=app/remote/scw\n",
    "\n",
    "pp.pprint(api.query().app.remote.scw.get())"
   ]
  }
 ],
 "metadata": {
  "kernelspec": {
   "display_name": "Python 3 (ipykernel)",
   "language": "python",
   "name": "python3"
  },
  "language_info": {
   "codemirror_mode": {
    "name": "ipython",
    "version": 3
   },
   "file_extension": ".py",
   "mimetype": "text/x-python",
   "name": "python",
   "nbconvert_exporter": "python",
   "pygments_lexer": "ipython3",
   "version": "3.9.9"
  }
 },
 "nbformat": 4,
 "nbformat_minor": 4
}
